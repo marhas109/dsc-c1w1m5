{
  "cells": [
    {
      "cell_type": "markdown",
      "metadata": {
        "id": "ir03DMw4V3br"
      },
      "source": [
        "# Practice SQL Database types\n",
        "\n",
        "Fill out the code, as necessary, below based on the directions in Canvas."
      ]
    },
    {
      "cell_type": "markdown",
      "metadata": {},
      "source": [
        "Rough list of tables & columns:\n",
        "- students\n",
        "    studentID, firstName, lastName, phoneNumber, personalEmail, status, enrollmentDate, graduationDate\n",
        "- staff\n",
        "    staffID firstName, lastName, workPhoneNumber, workEmail, personalPhoneNumber, personalEmail, department, employment type\n",
        "- student records\n",
        "    studentID, firstName, lastName, classCode, classTitle, term, completed, grade\n",
        "- classes\n",
        "    classCode, classTitle, department, instructorName, status, dateActivated, dateDeactivated\n",
        "- attendance"
      ]
    },
    {
      "cell_type": "code",
      "execution_count": null,
      "metadata": {
        "id": "ggEPd8LFXF8r"
      },
      "outputs": [],
      "source": []
    }
  ],
  "metadata": {
    "colab": {
      "provenance": []
    },
    "kernelspec": {
      "display_name": "Python 3",
      "name": "python3"
    },
    "language_info": {
      "name": "python"
    }
  },
  "nbformat": 4,
  "nbformat_minor": 0
}
